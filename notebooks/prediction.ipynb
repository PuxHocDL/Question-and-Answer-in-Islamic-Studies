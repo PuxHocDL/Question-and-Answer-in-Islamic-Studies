{
 "cells": [
  {
   "cell_type": "code",
   "execution_count": 1,
   "id": "e73a309d-86f9-4797-bf8b-abeef8155088",
   "metadata": {},
   "outputs": [],
   "source": [
    "from IPython.core.interactiveshell import InteractiveShell\n",
    "\n",
    "# Toujours tout afficher\n",
    "InteractiveShell.ast_node_interactivity = \"all\"\n"
   ]
  },
  {
   "cell_type": "code",
   "execution_count": 2,
   "id": "b48f79bb-40d1-4f30-8681-0f8457c1957a",
   "metadata": {},
   "outputs": [],
   "source": [
    "import sys, os\n",
    "sys.path.append(os.path.abspath(\"..\"))"
   ]
  },
  {
   "cell_type": "code",
   "execution_count": null,
   "id": "b17cca9c-228c-4681-9e11-5be6cc8016a5",
   "metadata": {
    "scrolled": true
   },
   "outputs": [],
   "source": [
    "from scripts.inference import process_csv_file\n",
    "from scripts.models import get_prediction_mistral, get_prediction_fanar\n",
    "from scripts.utils import get_filename_suffix, save_mcq_file\n",
    "from scripts.main import load_config,  predict_from_directory\n",
    "\n",
    "df=predict_from_directory(config_path=\"../config.yaml\")\n"
   ]
  },
  {
   "cell_type": "code",
   "execution_count": null,
   "id": "853eb0ec-fd2c-4924-9adb-5d096743c9a7",
   "metadata": {},
   "outputs": [],
   "source": [
    "from  scripts.evaluation import evaluate\n",
    "\n",
    "# ✅ Specify your file paths\n",
    "prediction_dir  =  \"../results\\prediction\\Task2_MCQs_Dev_mistral_subtask2_prediction.csv\"\n",
    "reference_dir = \"../data/Task2_MCQs_Dev.csv\"\n",
    "output_dir = '../results/prediction/output'  # optional\n",
    "\n",
    "# ✅ Call the evaluation function\n",
    "accuracy = evaluate(reference_dir, prediction_dir, output_dir)\n",
    "\n",
    "\n"
   ]
  }
 ],
 "metadata": {
  "kernelspec": {
   "display_name": ".venv",
   "language": "python",
   "name": "python3"
  },
  "language_info": {
   "codemirror_mode": {
    "name": "ipython",
    "version": 3
   },
   "file_extension": ".py",
   "mimetype": "text/x-python",
   "name": "python",
   "nbconvert_exporter": "python",
   "pygments_lexer": "ipython3",
   "version": "3.13.1"
  }
 },
 "nbformat": 4,
 "nbformat_minor": 5
}
